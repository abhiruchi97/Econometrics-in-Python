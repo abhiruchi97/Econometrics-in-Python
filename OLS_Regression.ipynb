{
  "nbformat": 4,
  "nbformat_minor": 0,
  "metadata": {
    "colab": {
      "name": "OLS Regression.ipynb",
      "provenance": [],
      "include_colab_link": true
    },
    "kernelspec": {
      "name": "python3",
      "display_name": "Python 3"
    }
  },
  "cells": [
    {
      "cell_type": "markdown",
      "metadata": {
        "id": "view-in-github",
        "colab_type": "text"
      },
      "source": [
        "<a href=\"https://colab.research.google.com/github/abhiruchi97/Econometrics-in-Python/blob/master/OLS_Regression.ipynb\" target=\"_parent\"><img src=\"https://colab.research.google.com/assets/colab-badge.svg\" alt=\"Open In Colab\"/></a>"
      ]
    },
    {
      "cell_type": "code",
      "metadata": {
        "id": "Bzr0n0ho72p3",
        "colab_type": "code",
        "colab": {}
      },
      "source": [
        "import numpy as np \n",
        "import pandas as pd\n",
        "import matplotlib.pyplot as plt\n",
        "import statsmodels.api as sm\n",
        "from statsmodels.compat import lzip\n",
        "import statsmodels.formula.api as smf\n",
        "import statsmodels.stats.api as sms\n",
        "import matplotlib.pyplot as plt\n",
        "from statsmodels.sandbox.regression.predstd import wls_prediction_std"
      ],
      "execution_count": 0,
      "outputs": []
    },
    {
      "cell_type": "markdown",
      "metadata": {
        "id": "VHaU4-EsOQNH",
        "colab_type": "text"
      },
      "source": [
        "#OLS regression in Statsmodels\n",
        "\n",
        "\n",
        "> ### We create a data set to study the determinants of the natural rate of unemployment for the United States between October 1960 and March 1997\n",
        "\n",
        "* Data frequency: Monthly\n",
        "* Data source: St. Louis FRED, Bureau of Labor Statistics (BLS)\n",
        "\n"
      ]
    },
    {
      "cell_type": "code",
      "metadata": {
        "id": "hv-canLf8btK",
        "colab_type": "code",
        "outputId": "7674280b-0d13-44a6-b3a8-84be5c47a6ea",
        "colab": {
          "base_uri": "https://localhost:8080/",
          "height": 204
        }
      },
      "source": [
        "data = pd.read_csv('dissert_dataset__instrumentalvar.csv')\n",
        "data.columns = [\"date\",\"natural_rate\", \"sect_shifts\", \"real_unemp_benef\", \"log_growth\",\"real_hrly_wage\", \"real_min_wage\", \"lab_force_grwth\", 'pers_cnsmp', 'time']\n",
        "data.head()"
      ],
      "execution_count": 19,
      "outputs": [
        {
          "output_type": "execute_result",
          "data": {
            "text/html": [
              "<div>\n",
              "<style scoped>\n",
              "    .dataframe tbody tr th:only-of-type {\n",
              "        vertical-align: middle;\n",
              "    }\n",
              "\n",
              "    .dataframe tbody tr th {\n",
              "        vertical-align: top;\n",
              "    }\n",
              "\n",
              "    .dataframe thead th {\n",
              "        text-align: right;\n",
              "    }\n",
              "</style>\n",
              "<table border=\"1\" class=\"dataframe\">\n",
              "  <thead>\n",
              "    <tr style=\"text-align: right;\">\n",
              "      <th></th>\n",
              "      <th>date</th>\n",
              "      <th>natural_rate</th>\n",
              "      <th>sect_shifts</th>\n",
              "      <th>real_unemp_benef</th>\n",
              "      <th>log_growth</th>\n",
              "      <th>real_hrly_wage</th>\n",
              "      <th>real_min_wage</th>\n",
              "      <th>lab_force_grwth</th>\n",
              "      <th>pers_cnsmp</th>\n",
              "      <th>time</th>\n",
              "    </tr>\n",
              "  </thead>\n",
              "  <tbody>\n",
              "    <tr>\n",
              "      <th>0</th>\n",
              "      <td>1960-10-01</td>\n",
              "      <td>5.476770</td>\n",
              "      <td>0.014062</td>\n",
              "      <td>7.896482</td>\n",
              "      <td>-0.013821</td>\n",
              "      <td>53.024000</td>\n",
              "      <td>1.0</td>\n",
              "      <td>-0.001567</td>\n",
              "      <td>17.255</td>\n",
              "      <td>1</td>\n",
              "    </tr>\n",
              "    <tr>\n",
              "      <th>1</th>\n",
              "      <td>1960-11-01</td>\n",
              "      <td>5.479093</td>\n",
              "      <td>0.024561</td>\n",
              "      <td>7.934455</td>\n",
              "      <td>-0.008383</td>\n",
              "      <td>53.009930</td>\n",
              "      <td>1.0</td>\n",
              "      <td>-0.003343</td>\n",
              "      <td>17.301</td>\n",
              "      <td>2</td>\n",
              "    </tr>\n",
              "    <tr>\n",
              "      <th>2</th>\n",
              "      <td>1960-12-01</td>\n",
              "      <td>5.481434</td>\n",
              "      <td>0.056744</td>\n",
              "      <td>7.923337</td>\n",
              "      <td>0.001977</td>\n",
              "      <td>53.145433</td>\n",
              "      <td>1.0</td>\n",
              "      <td>-0.004058</td>\n",
              "      <td>17.295</td>\n",
              "      <td>3</td>\n",
              "    </tr>\n",
              "    <tr>\n",
              "      <th>3</th>\n",
              "      <td>1961-01-01</td>\n",
              "      <td>5.483794</td>\n",
              "      <td>0.030253</td>\n",
              "      <td>7.936679</td>\n",
              "      <td>0.002089</td>\n",
              "      <td>53.378375</td>\n",
              "      <td>1.0</td>\n",
              "      <td>-0.001098</td>\n",
              "      <td>17.300</td>\n",
              "      <td>4</td>\n",
              "    </tr>\n",
              "    <tr>\n",
              "      <th>4</th>\n",
              "      <td>1961-02-01</td>\n",
              "      <td>5.486174</td>\n",
              "      <td>0.019528</td>\n",
              "      <td>7.952802</td>\n",
              "      <td>0.005338</td>\n",
              "      <td>53.656624</td>\n",
              "      <td>1.0</td>\n",
              "      <td>-0.002347</td>\n",
              "      <td>17.317</td>\n",
              "      <td>5</td>\n",
              "    </tr>\n",
              "  </tbody>\n",
              "</table>\n",
              "</div>"
            ],
            "text/plain": [
              "         date  natural_rate  sect_shifts  ...  lab_force_grwth  pers_cnsmp  time\n",
              "0  1960-10-01      5.476770     0.014062  ...        -0.001567      17.255     1\n",
              "1  1960-11-01      5.479093     0.024561  ...        -0.003343      17.301     2\n",
              "2  1960-12-01      5.481434     0.056744  ...        -0.004058      17.295     3\n",
              "3  1961-01-01      5.483794     0.030253  ...        -0.001098      17.300     4\n",
              "4  1961-02-01      5.486174     0.019528  ...        -0.002347      17.317     5\n",
              "\n",
              "[5 rows x 10 columns]"
            ]
          },
          "metadata": {
            "tags": []
          },
          "execution_count": 19
        }
      ]
    },
    {
      "cell_type": "code",
      "metadata": {
        "id": "H7eZm_rOFyzM",
        "colab_type": "code",
        "colab": {}
      },
      "source": [
        "#np.max(data.iloc[:,2])"
      ],
      "execution_count": 0,
      "outputs": []
    },
    {
      "cell_type": "code",
      "metadata": {
        "id": "fS9BlYRe9HyW",
        "colab_type": "code",
        "outputId": "e0c8d3e9-15d5-43b0-b67b-2e85019110d7",
        "colab": {
          "base_uri": "https://localhost:8080/",
          "height": 204
        }
      },
      "source": [
        "for i in range(1,7):\n",
        "  data.iloc[:,i] = data.iloc[:,i]/np.max(data.iloc[:,i])\n",
        "data.head()"
      ],
      "execution_count": 21,
      "outputs": [
        {
          "output_type": "execute_result",
          "data": {
            "text/html": [
              "<div>\n",
              "<style scoped>\n",
              "    .dataframe tbody tr th:only-of-type {\n",
              "        vertical-align: middle;\n",
              "    }\n",
              "\n",
              "    .dataframe tbody tr th {\n",
              "        vertical-align: top;\n",
              "    }\n",
              "\n",
              "    .dataframe thead th {\n",
              "        text-align: right;\n",
              "    }\n",
              "</style>\n",
              "<table border=\"1\" class=\"dataframe\">\n",
              "  <thead>\n",
              "    <tr style=\"text-align: right;\">\n",
              "      <th></th>\n",
              "      <th>date</th>\n",
              "      <th>natural_rate</th>\n",
              "      <th>sect_shifts</th>\n",
              "      <th>real_unemp_benef</th>\n",
              "      <th>log_growth</th>\n",
              "      <th>real_hrly_wage</th>\n",
              "      <th>real_min_wage</th>\n",
              "      <th>lab_force_grwth</th>\n",
              "      <th>pers_cnsmp</th>\n",
              "      <th>time</th>\n",
              "    </tr>\n",
              "  </thead>\n",
              "  <tbody>\n",
              "    <tr>\n",
              "      <th>0</th>\n",
              "      <td>1960-10-01</td>\n",
              "      <td>0.877697</td>\n",
              "      <td>0.193335</td>\n",
              "      <td>0.934048</td>\n",
              "      <td>-0.857517</td>\n",
              "      <td>0.633390</td>\n",
              "      <td>0.210526</td>\n",
              "      <td>-0.001567</td>\n",
              "      <td>17.255</td>\n",
              "      <td>1</td>\n",
              "    </tr>\n",
              "    <tr>\n",
              "      <th>1</th>\n",
              "      <td>1960-11-01</td>\n",
              "      <td>0.878069</td>\n",
              "      <td>0.337677</td>\n",
              "      <td>0.938540</td>\n",
              "      <td>-0.520106</td>\n",
              "      <td>0.633222</td>\n",
              "      <td>0.210526</td>\n",
              "      <td>-0.003343</td>\n",
              "      <td>17.301</td>\n",
              "      <td>2</td>\n",
              "    </tr>\n",
              "    <tr>\n",
              "      <th>2</th>\n",
              "      <td>1960-12-01</td>\n",
              "      <td>0.878444</td>\n",
              "      <td>0.780147</td>\n",
              "      <td>0.937225</td>\n",
              "      <td>0.122672</td>\n",
              "      <td>0.634841</td>\n",
              "      <td>0.210526</td>\n",
              "      <td>-0.004058</td>\n",
              "      <td>17.295</td>\n",
              "      <td>3</td>\n",
              "    </tr>\n",
              "    <tr>\n",
              "      <th>3</th>\n",
              "      <td>1961-01-01</td>\n",
              "      <td>0.878822</td>\n",
              "      <td>0.415940</td>\n",
              "      <td>0.938803</td>\n",
              "      <td>0.129592</td>\n",
              "      <td>0.637623</td>\n",
              "      <td>0.210526</td>\n",
              "      <td>-0.001098</td>\n",
              "      <td>17.300</td>\n",
              "      <td>4</td>\n",
              "    </tr>\n",
              "    <tr>\n",
              "      <th>4</th>\n",
              "      <td>1961-02-01</td>\n",
              "      <td>0.879204</td>\n",
              "      <td>0.268481</td>\n",
              "      <td>0.940710</td>\n",
              "      <td>0.331178</td>\n",
              "      <td>0.640947</td>\n",
              "      <td>0.210526</td>\n",
              "      <td>-0.002347</td>\n",
              "      <td>17.317</td>\n",
              "      <td>5</td>\n",
              "    </tr>\n",
              "  </tbody>\n",
              "</table>\n",
              "</div>"
            ],
            "text/plain": [
              "         date  natural_rate  sect_shifts  ...  lab_force_grwth  pers_cnsmp  time\n",
              "0  1960-10-01      0.877697     0.193335  ...        -0.001567      17.255     1\n",
              "1  1960-11-01      0.878069     0.337677  ...        -0.003343      17.301     2\n",
              "2  1960-12-01      0.878444     0.780147  ...        -0.004058      17.295     3\n",
              "3  1961-01-01      0.878822     0.415940  ...        -0.001098      17.300     4\n",
              "4  1961-02-01      0.879204     0.268481  ...        -0.002347      17.317     5\n",
              "\n",
              "[5 rows x 10 columns]"
            ]
          },
          "metadata": {
            "tags": []
          },
          "execution_count": 21
        }
      ]
    },
    {
      "cell_type": "markdown",
      "metadata": {
        "id": "z20FGlsthhJH",
        "colab_type": "text"
      },
      "source": [
        "### Data description"
      ]
    },
    {
      "cell_type": "code",
      "metadata": {
        "id": "ahLsdzgWetvk",
        "colab_type": "code",
        "outputId": "912edbfa-1321-43bf-febf-e6990c6a17aa",
        "colab": {
          "base_uri": "https://localhost:8080/",
          "height": 328
        }
      },
      "source": [
        "variable_labels = pd.DataFrame({'Variable': ['date', 'natural_rate', 'sect_shifts', 'real_unemp_benef', 'log_growth',\n",
        "                                'real_hrly_wage', 'real_min_wage', 'lab_force_grwth', 'time'],\n",
        "                       'Label': ['yyyy-mm-dd', 'natural rate of unemployment', 'percentage changes in sectoral composition by industry', \n",
        "                                 'real unemployment benefits per capita', 'log of growth of output', 'real hourly wage/compensation', 'real minimum wage', \n",
        "                                 'labor force growth rate', 'time trend']})\n",
        "variable_labels"
      ],
      "execution_count": 22,
      "outputs": [
        {
          "output_type": "execute_result",
          "data": {
            "text/html": [
              "<div>\n",
              "<style scoped>\n",
              "    .dataframe tbody tr th:only-of-type {\n",
              "        vertical-align: middle;\n",
              "    }\n",
              "\n",
              "    .dataframe tbody tr th {\n",
              "        vertical-align: top;\n",
              "    }\n",
              "\n",
              "    .dataframe thead th {\n",
              "        text-align: right;\n",
              "    }\n",
              "</style>\n",
              "<table border=\"1\" class=\"dataframe\">\n",
              "  <thead>\n",
              "    <tr style=\"text-align: right;\">\n",
              "      <th></th>\n",
              "      <th>Variable</th>\n",
              "      <th>Label</th>\n",
              "    </tr>\n",
              "  </thead>\n",
              "  <tbody>\n",
              "    <tr>\n",
              "      <th>0</th>\n",
              "      <td>date</td>\n",
              "      <td>yyyy-mm-dd</td>\n",
              "    </tr>\n",
              "    <tr>\n",
              "      <th>1</th>\n",
              "      <td>natural_rate</td>\n",
              "      <td>natural rate of unemployment</td>\n",
              "    </tr>\n",
              "    <tr>\n",
              "      <th>2</th>\n",
              "      <td>sect_shifts</td>\n",
              "      <td>percentage changes in sectoral composition by ...</td>\n",
              "    </tr>\n",
              "    <tr>\n",
              "      <th>3</th>\n",
              "      <td>real_unemp_benef</td>\n",
              "      <td>real unemployment benefits per capita</td>\n",
              "    </tr>\n",
              "    <tr>\n",
              "      <th>4</th>\n",
              "      <td>log_growth</td>\n",
              "      <td>log of growth of output</td>\n",
              "    </tr>\n",
              "    <tr>\n",
              "      <th>5</th>\n",
              "      <td>real_hrly_wage</td>\n",
              "      <td>real hourly wage/compensation</td>\n",
              "    </tr>\n",
              "    <tr>\n",
              "      <th>6</th>\n",
              "      <td>real_min_wage</td>\n",
              "      <td>real minimum wage</td>\n",
              "    </tr>\n",
              "    <tr>\n",
              "      <th>7</th>\n",
              "      <td>lab_force_grwth</td>\n",
              "      <td>labor force growth rate</td>\n",
              "    </tr>\n",
              "    <tr>\n",
              "      <th>8</th>\n",
              "      <td>time</td>\n",
              "      <td>time trend</td>\n",
              "    </tr>\n",
              "  </tbody>\n",
              "</table>\n",
              "</div>"
            ],
            "text/plain": [
              "           Variable                                              Label\n",
              "0              date                                         yyyy-mm-dd\n",
              "1      natural_rate                       natural rate of unemployment\n",
              "2       sect_shifts  percentage changes in sectoral composition by ...\n",
              "3  real_unemp_benef              real unemployment benefits per capita\n",
              "4        log_growth                            log of growth of output\n",
              "5    real_hrly_wage                      real hourly wage/compensation\n",
              "6     real_min_wage                                  real minimum wage\n",
              "7   lab_force_grwth                            labor force growth rate\n",
              "8              time                                         time trend"
            ]
          },
          "metadata": {
            "tags": []
          },
          "execution_count": 22
        }
      ]
    },
    {
      "cell_type": "code",
      "metadata": {
        "id": "1G6v2hDYQV0C",
        "colab_type": "code",
        "outputId": "bb31c5e4-d472-4ddc-db10-4133eda358ea",
        "colab": {
          "base_uri": "https://localhost:8080/",
          "height": 306
        }
      },
      "source": [
        "data.info()"
      ],
      "execution_count": 23,
      "outputs": [
        {
          "output_type": "stream",
          "text": [
            "<class 'pandas.core.frame.DataFrame'>\n",
            "RangeIndex: 438 entries, 0 to 437\n",
            "Data columns (total 10 columns):\n",
            " #   Column            Non-Null Count  Dtype  \n",
            "---  ------            --------------  -----  \n",
            " 0   date              438 non-null    object \n",
            " 1   natural_rate      438 non-null    float64\n",
            " 2   sect_shifts       438 non-null    float64\n",
            " 3   real_unemp_benef  438 non-null    float64\n",
            " 4   log_growth        438 non-null    float64\n",
            " 5   real_hrly_wage    438 non-null    float64\n",
            " 6   real_min_wage     438 non-null    float64\n",
            " 7   lab_force_grwth   438 non-null    float64\n",
            " 8   pers_cnsmp        438 non-null    float64\n",
            " 9   time              438 non-null    int64  \n",
            "dtypes: float64(8), int64(1), object(1)\n",
            "memory usage: 34.3+ KB\n"
          ],
          "name": "stdout"
        }
      ]
    },
    {
      "cell_type": "markdown",
      "metadata": {
        "id": "T9cZMFzuhmTc",
        "colab_type": "text"
      },
      "source": [
        "### Assigning independent variables to 'X' for OLS"
      ]
    },
    {
      "cell_type": "code",
      "metadata": {
        "id": "9AA5M7-78o3w",
        "colab_type": "code",
        "outputId": "0700557a-2b01-459a-bdca-48741dddb67e",
        "colab": {
          "base_uri": "https://localhost:8080/",
          "height": 204
        }
      },
      "source": [
        "X = data.iloc[:, [2, 3, 4, 5, 6, 7, 9]]\n",
        "y = data.iloc[:, 1]\n",
        "X.head()"
      ],
      "execution_count": 24,
      "outputs": [
        {
          "output_type": "execute_result",
          "data": {
            "text/html": [
              "<div>\n",
              "<style scoped>\n",
              "    .dataframe tbody tr th:only-of-type {\n",
              "        vertical-align: middle;\n",
              "    }\n",
              "\n",
              "    .dataframe tbody tr th {\n",
              "        vertical-align: top;\n",
              "    }\n",
              "\n",
              "    .dataframe thead th {\n",
              "        text-align: right;\n",
              "    }\n",
              "</style>\n",
              "<table border=\"1\" class=\"dataframe\">\n",
              "  <thead>\n",
              "    <tr style=\"text-align: right;\">\n",
              "      <th></th>\n",
              "      <th>sect_shifts</th>\n",
              "      <th>real_unemp_benef</th>\n",
              "      <th>log_growth</th>\n",
              "      <th>real_hrly_wage</th>\n",
              "      <th>real_min_wage</th>\n",
              "      <th>lab_force_grwth</th>\n",
              "      <th>time</th>\n",
              "    </tr>\n",
              "  </thead>\n",
              "  <tbody>\n",
              "    <tr>\n",
              "      <th>0</th>\n",
              "      <td>0.193335</td>\n",
              "      <td>0.934048</td>\n",
              "      <td>-0.857517</td>\n",
              "      <td>0.633390</td>\n",
              "      <td>0.210526</td>\n",
              "      <td>-0.001567</td>\n",
              "      <td>1</td>\n",
              "    </tr>\n",
              "    <tr>\n",
              "      <th>1</th>\n",
              "      <td>0.337677</td>\n",
              "      <td>0.938540</td>\n",
              "      <td>-0.520106</td>\n",
              "      <td>0.633222</td>\n",
              "      <td>0.210526</td>\n",
              "      <td>-0.003343</td>\n",
              "      <td>2</td>\n",
              "    </tr>\n",
              "    <tr>\n",
              "      <th>2</th>\n",
              "      <td>0.780147</td>\n",
              "      <td>0.937225</td>\n",
              "      <td>0.122672</td>\n",
              "      <td>0.634841</td>\n",
              "      <td>0.210526</td>\n",
              "      <td>-0.004058</td>\n",
              "      <td>3</td>\n",
              "    </tr>\n",
              "    <tr>\n",
              "      <th>3</th>\n",
              "      <td>0.415940</td>\n",
              "      <td>0.938803</td>\n",
              "      <td>0.129592</td>\n",
              "      <td>0.637623</td>\n",
              "      <td>0.210526</td>\n",
              "      <td>-0.001098</td>\n",
              "      <td>4</td>\n",
              "    </tr>\n",
              "    <tr>\n",
              "      <th>4</th>\n",
              "      <td>0.268481</td>\n",
              "      <td>0.940710</td>\n",
              "      <td>0.331178</td>\n",
              "      <td>0.640947</td>\n",
              "      <td>0.210526</td>\n",
              "      <td>-0.002347</td>\n",
              "      <td>5</td>\n",
              "    </tr>\n",
              "  </tbody>\n",
              "</table>\n",
              "</div>"
            ],
            "text/plain": [
              "   sect_shifts  real_unemp_benef  ...  lab_force_grwth  time\n",
              "0     0.193335          0.934048  ...        -0.001567     1\n",
              "1     0.337677          0.938540  ...        -0.003343     2\n",
              "2     0.780147          0.937225  ...        -0.004058     3\n",
              "3     0.415940          0.938803  ...        -0.001098     4\n",
              "4     0.268481          0.940710  ...        -0.002347     5\n",
              "\n",
              "[5 rows x 7 columns]"
            ]
          },
          "metadata": {
            "tags": []
          },
          "execution_count": 24
        }
      ]
    },
    {
      "cell_type": "markdown",
      "metadata": {
        "id": "jtZRGvec-rIK",
        "colab_type": "text"
      },
      "source": [
        "###Adding a column of 1's to the regressor matrix"
      ]
    },
    {
      "cell_type": "code",
      "metadata": {
        "id": "_OlUQEm9-Nwu",
        "colab_type": "code",
        "colab": {}
      },
      "source": [
        "X = sm.add_constant(X)"
      ],
      "execution_count": 0,
      "outputs": []
    },
    {
      "cell_type": "markdown",
      "metadata": {
        "id": "fYPdAO1eitw0",
        "colab_type": "text"
      },
      "source": [
        "### Regression using OLS and saving results"
      ]
    },
    {
      "cell_type": "code",
      "metadata": {
        "id": "sH89uYkO-8jL",
        "colab_type": "code",
        "outputId": "0ee01d6e-1e1b-4acc-c7b6-341a437fc612",
        "colab": {
          "base_uri": "https://localhost:8080/",
          "height": 578
        }
      },
      "source": [
        "model = sm.OLS(y, X)\n",
        "results = model.fit(cov_type = 'HC3')\n",
        "print(results.summary())"
      ],
      "execution_count": 27,
      "outputs": [
        {
          "output_type": "stream",
          "text": [
            "                            OLS Regression Results                            \n",
            "==============================================================================\n",
            "Dep. Variable:           natural_rate   R-squared:                       0.616\n",
            "Model:                            OLS   Adj. R-squared:                  0.610\n",
            "Method:                 Least Squares   F-statistic:                     216.0\n",
            "Date:                Fri, 08 May 2020   Prob (F-statistic):          1.85e-136\n",
            "Time:                        12:50:18   Log-Likelihood:                 961.14\n",
            "No. Observations:                 438   AIC:                            -1906.\n",
            "Df Residuals:                     430   BIC:                            -1874.\n",
            "Df Model:                           7                                         \n",
            "Covariance Type:                  HC3                                         \n",
            "====================================================================================\n",
            "                       coef    std err          z      P>|z|      [0.025      0.975]\n",
            "------------------------------------------------------------------------------------\n",
            "const               -0.0894      0.079     -1.130      0.259      -0.244       0.066\n",
            "sect_shifts          0.0237      0.010      2.295      0.022       0.003       0.044\n",
            "real_unemp_benef    -0.0659      0.071     -0.930      0.352      -0.205       0.073\n",
            "log_growth          -0.0185      0.003     -5.420      0.000      -0.025      -0.012\n",
            "real_hrly_wage       1.5563      0.061     25.452      0.000       1.437       1.676\n",
            "real_min_wage        0.1795      0.031      5.874      0.000       0.120       0.239\n",
            "lab_force_grwth      0.2950      0.662      0.446      0.656      -1.003       1.593\n",
            "time                -0.0016   8.92e-05    -17.552      0.000      -0.002      -0.001\n",
            "==============================================================================\n",
            "Omnibus:                        1.719   Durbin-Watson:                   0.090\n",
            "Prob(Omnibus):                  0.423   Jarque-Bera (JB):                1.516\n",
            "Skew:                          -0.133   Prob(JB):                        0.469\n",
            "Kurtosis:                       3.111   Cond. No.                     1.25e+05\n",
            "==============================================================================\n",
            "\n",
            "Warnings:\n",
            "[1] Standard Errors are heteroscedasticity robust (HC3)\n",
            "[2] The condition number is large, 1.25e+05. This might indicate that there are\n",
            "strong multicollinearity or other numerical problems.\n"
          ],
          "name": "stdout"
        }
      ]
    },
    {
      "cell_type": "markdown",
      "metadata": {
        "id": "lUz5eGfBDgfh",
        "colab_type": "text"
      },
      "source": [
        "### Regression Diagnostics\n",
        "#### Normality of residuals\n",
        "\n",
        "*   Jarque-Bera test\n",
        "\n"
      ]
    },
    {
      "cell_type": "code",
      "metadata": {
        "id": "FiQ5dJMpAb5V",
        "colab_type": "code",
        "outputId": "1494a69a-a2b5-4335-b397-8257921ee2f9",
        "colab": {
          "base_uri": "https://localhost:8080/",
          "height": 85
        }
      },
      "source": [
        "name = ['Jarque-Bera', 'Chi^2 two-tail prob.', 'Skew', 'Kurtosis']\n",
        "test = sms.jarque_bera(results.resid)\n",
        "lzip(name, test)"
      ],
      "execution_count": 28,
      "outputs": [
        {
          "output_type": "execute_result",
          "data": {
            "text/plain": [
              "[('Jarque-Bera', 1.5156929918587292),\n",
              " ('Chi^2 two-tail prob.', 0.46867463376321183),\n",
              " ('Skew', -0.13298575534312373),\n",
              " ('Kurtosis', 3.1109541630136293)]"
            ]
          },
          "metadata": {
            "tags": []
          },
          "execution_count": 28
        }
      ]
    },
    {
      "cell_type": "code",
      "metadata": {
        "id": "zgAYmKOiFZNb",
        "colab_type": "code",
        "outputId": "57761ba3-b313-4f17-8e40-5b431abce8ce",
        "colab": {
          "base_uri": "https://localhost:8080/",
          "height": 282
        }
      },
      "source": [
        "plt.plot(results.resid)"
      ],
      "execution_count": 29,
      "outputs": [
        {
          "output_type": "execute_result",
          "data": {
            "text/plain": [
              "[<matplotlib.lines.Line2D at 0x7f23ec12e668>]"
            ]
          },
          "metadata": {
            "tags": []
          },
          "execution_count": 29
        },
        {
          "output_type": "display_data",
          "data": {
            "image/png": "[encoded data removed]",
            "text/plain": [
              "<Figure size 432x288 with 1 Axes>"
            ]
          },
          "metadata": {
            "tags": [],
            "needs_background": "light"
          }
        }
      ]
    },
    {
      "cell_type": "markdown",
      "metadata": {
        "id": "oEKfMQZ9G83v",
        "colab_type": "text"
      },
      "source": [
        "#### Heteroscedasticity\n",
        "\n",
        "\n",
        "*   Breusch-Pagan test\n",
        "*   Goldfeld-Quandt test\n",
        "\n"
      ]
    },
    {
      "cell_type": "code",
      "metadata": {
        "id": "eKy6iPZKFuRW",
        "colab_type": "code",
        "outputId": "123a0873-69dd-4dfb-a0a2-9b8fd6365a47",
        "colab": {
          "base_uri": "https://localhost:8080/",
          "height": 85
        }
      },
      "source": [
        "name = ['Lagrange multiplier statistic', 'p-value',\n",
        "        'f-value', 'f p-value']\n",
        "test = sms.het_breuschpagan(results.resid, results.model.exog)\n",
        "lzip(name, test)"
      ],
      "execution_count": 30,
      "outputs": [
        {
          "output_type": "execute_result",
          "data": {
            "text/plain": [
              "[('Lagrange multiplier statistic', 132.8172971713582),\n",
              " ('p-value', 1.6198815526357453e-25),\n",
              " ('f-value', 26.73407355862392),\n",
              " ('f p-value', 1.985154479755174e-30)]"
            ]
          },
          "metadata": {
            "tags": []
          },
          "execution_count": 30
        }
      ]
    },
    {
      "cell_type": "code",
      "metadata": {
        "id": "kqmpxpoOHS6o",
        "colab_type": "code",
        "outputId": "ea98f583-b6bb-4009-b7f0-4c503c156ad8",
        "colab": {
          "base_uri": "https://localhost:8080/",
          "height": 34
        }
      },
      "source": [
        "name = ['F statistic', 'p-value']\n",
        "test = sms.het_goldfeldquandt(results.resid, results.model.exog)\n",
        "lzip(name, test)"
      ],
      "execution_count": 31,
      "outputs": [
        {
          "output_type": "execute_result",
          "data": {
            "text/plain": [
              "[('F statistic', 5.377808422655104), ('p-value', 2.5699253800007495e-31)]"
            ]
          },
          "metadata": {
            "tags": []
          },
          "execution_count": 31
        }
      ]
    }
  ]
}